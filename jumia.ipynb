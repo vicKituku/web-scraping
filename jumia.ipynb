{
 "cells": [
  {
   "cell_type": "code",
   "execution_count": 7,
   "metadata": {},
   "outputs": [
    {
     "name": "stderr",
     "output_type": "stream",
     "text": [
      "C:\\Users\\victo\\AppData\\Local\\Temp\\ipykernel_17496\\2536917552.py:2: DeprecationWarning: \n",
      "Pyarrow will become a required dependency of pandas in the next major release of pandas (pandas 3.0),\n",
      "(to allow more performant data types, such as the Arrow string type, and better interoperability with other libraries)\n",
      "but was not found to be installed on your system.\n",
      "If this would cause problems for you,\n",
      "please provide us feedback at https://github.com/pandas-dev/pandas/issues/54466\n",
      "        \n",
      "  import pandas as pd\n"
     ]
    }
   ],
   "source": [
    "import mysql.connector\n",
    "import pandas as pd\n",
    "import seaborn as sns\n",
    "import matplotlib.pyplot as plt"
   ]
  },
  {
   "cell_type": "code",
   "execution_count": 4,
   "metadata": {},
   "outputs": [
    {
     "name": "stdout",
     "output_type": "stream",
     "text": [
      "Connection succesful\n"
     ]
    }
   ],
   "source": [
    "#MYSQL Connection\n",
    "\n",
    "try:\n",
    "    connection = mysql.connector.connect(\n",
    "    host = 'localhost',\n",
    "    port = 3306,\n",
    "    user = 'root',\n",
    "    database = 'jumia',\n",
    "    password = 'qwerty'\n",
    ")\n",
    "except Exception as e:\n",
    "    print(e)\n",
    "else:\n",
    "    print('Connection succesful')"
   ]
  },
  {
   "cell_type": "code",
   "execution_count": 5,
   "metadata": {},
   "outputs": [],
   "source": [
    "#Querying the database\n",
    "sql_query = \"SELECT * FROM phones\""
   ]
  },
  {
   "cell_type": "code",
   "execution_count": 8,
   "metadata": {},
   "outputs": [
    {
     "name": "stderr",
     "output_type": "stream",
     "text": [
      "C:\\Users\\victo\\AppData\\Local\\Temp\\ipykernel_17496\\3343132134.py:1: UserWarning: pandas only supports SQLAlchemy connectable (engine/connection) or database string URI or sqlite3 DBAPI2 connection. Other DBAPI2 objects are not tested. Please consider using SQLAlchemy.\n",
      "  phone_df = pd.read_sql(sql_query, connection)\n"
     ]
    }
   ],
   "source": [
    "phone_df = pd.read_sql(sql_query, connection)"
   ]
  },
  {
   "cell_type": "code",
   "execution_count": 9,
   "metadata": {},
   "outputs": [
    {
     "data": {
      "text/html": [
       "<div>\n",
       "<style scoped>\n",
       "    .dataframe tbody tr th:only-of-type {\n",
       "        vertical-align: middle;\n",
       "    }\n",
       "\n",
       "    .dataframe tbody tr th {\n",
       "        vertical-align: top;\n",
       "    }\n",
       "\n",
       "    .dataframe thead th {\n",
       "        text-align: right;\n",
       "    }\n",
       "</style>\n",
       "<table border=\"1\" class=\"dataframe\">\n",
       "  <thead>\n",
       "    <tr style=\"text-align: right;\">\n",
       "      <th></th>\n",
       "      <th>name</th>\n",
       "      <th>price</th>\n",
       "      <th>rating</th>\n",
       "      <th>rating_count</th>\n",
       "    </tr>\n",
       "  </thead>\n",
       "  <tbody>\n",
       "    <tr>\n",
       "      <th>0</th>\n",
       "      <td>Infinix Smart 7 HD, 6.6\", 2GB RAM, 64GB, 5000m...</td>\n",
       "      <td>12699.0</td>\n",
       "      <td>4.4</td>\n",
       "      <td>220</td>\n",
       "    </tr>\n",
       "    <tr>\n",
       "      <th>1</th>\n",
       "      <td>Freeyond F9,4GB+64GB,6.52\" 4G Smartphone,13.0M...</td>\n",
       "      <td>11876.0</td>\n",
       "      <td>4.5</td>\n",
       "      <td>62</td>\n",
       "    </tr>\n",
       "    <tr>\n",
       "      <th>2</th>\n",
       "      <td>Infinix Smart 7 HD, 6.6\", 2GB RAM, 64GB, 5000m...</td>\n",
       "      <td>12699.0</td>\n",
       "      <td>4.4</td>\n",
       "      <td>13</td>\n",
       "    </tr>\n",
       "    <tr>\n",
       "      <th>3</th>\n",
       "      <td>Infinix Smart 7 HD, 6.6\", 2GB RAM, 64GB, 5000m...</td>\n",
       "      <td>12699.0</td>\n",
       "      <td>4.0</td>\n",
       "      <td>4</td>\n",
       "    </tr>\n",
       "    <tr>\n",
       "      <th>4</th>\n",
       "      <td>UMIDIGI A11S 4GB,32GB 5150mAh (16MP+8MP+5MP)+8...</td>\n",
       "      <td>10800.0</td>\n",
       "      <td>4.0</td>\n",
       "      <td>1</td>\n",
       "    </tr>\n",
       "  </tbody>\n",
       "</table>\n",
       "</div>"
      ],
      "text/plain": [
       "                                                name    price  rating  \\\n",
       "0  Infinix Smart 7 HD, 6.6\", 2GB RAM, 64GB, 5000m...  12699.0     4.4   \n",
       "1  Freeyond F9,4GB+64GB,6.52\" 4G Smartphone,13.0M...  11876.0     4.5   \n",
       "2  Infinix Smart 7 HD, 6.6\", 2GB RAM, 64GB, 5000m...  12699.0     4.4   \n",
       "3  Infinix Smart 7 HD, 6.6\", 2GB RAM, 64GB, 5000m...  12699.0     4.0   \n",
       "4  UMIDIGI A11S 4GB,32GB 5150mAh (16MP+8MP+5MP)+8...  10800.0     4.0   \n",
       "\n",
       "   rating_count  \n",
       "0           220  \n",
       "1            62  \n",
       "2            13  \n",
       "3             4  \n",
       "4             1  "
      ]
     },
     "execution_count": 9,
     "metadata": {},
     "output_type": "execute_result"
    }
   ],
   "source": [
    "phone_df.head()"
   ]
  },
  {
   "cell_type": "code",
   "execution_count": null,
   "metadata": {},
   "outputs": [],
   "source": []
  },
  {
   "cell_type": "code",
   "execution_count": 13,
   "metadata": {},
   "outputs": [
    {
     "data": {
      "text/plain": [
       "rating\n",
       "0.0    13119.277778\n",
       "1.0    13499.333333\n",
       "2.0    12494.500000\n",
       "2.6    12799.000000\n",
       "3.0    13699.000000\n",
       "3.5    12550.000000\n",
       "3.7    13229.500000\n",
       "3.8    12447.000000\n",
       "3.9    13849.000000\n",
       "4.0    12870.733333\n",
       "4.1    14565.666667\n",
       "4.2    12925.000000\n",
       "4.3    13049.400000\n",
       "4.4    13097.600000\n",
       "4.5    13086.090909\n",
       "4.6    13224.000000\n",
       "4.7    12874.333333\n",
       "4.8    12955.333333\n",
       "5.0    13479.000000\n",
       "Name: price, dtype: float64"
      ]
     },
     "execution_count": 13,
     "metadata": {},
     "output_type": "execute_result"
    }
   ],
   "source": [
    "phone_df.groupby('rating')['price'].mean()"
   ]
  },
  {
   "cell_type": "code",
   "execution_count": 16,
   "metadata": {},
   "outputs": [
    {
     "data": {
      "text/plain": [
       "<seaborn.axisgrid.FacetGrid at 0x22d18601970>"
      ]
     },
     "execution_count": 16,
     "metadata": {},
     "output_type": "execute_result"
    },
    {
     "data": {
      "image/png": "[encoded data removed]",
      "text/plain": [
       "<Figure size 500x500 with 1 Axes>"
      ]
     },
     "metadata": {},
     "output_type": "display_data"
    }
   ],
   "source": [
    "sns.displot(phone_df, x= 'price', kde = True)"
   ]
  }
 ],
 "metadata": {
  "kernelspec": {
   "display_name": "Python 3",
   "language": "python",
   "name": "python3"
  },
  "language_info": {
   "codemirror_mode": {
    "name": "ipython",
    "version": 3
   },
   "file_extension": ".py",
   "mimetype": "text/x-python",
   "name": "python",
   "nbconvert_exporter": "python",
   "pygments_lexer": "ipython3",
   "version": "3.12.2"
  }
 },
 "nbformat": 4,
 "nbformat_minor": 2
}
