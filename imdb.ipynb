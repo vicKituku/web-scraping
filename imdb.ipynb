{
 "cells": [
  {
   "cell_type": "markdown",
   "metadata": {},
   "source": [
    "## IMDB scraping"
   ]
  },
  {
   "cell_type": "code",
   "execution_count": 22,
   "metadata": {},
   "outputs": [
    {
     "name": "stderr",
     "output_type": "stream",
     "text": [
      "C:\\Users\\victo\\AppData\\Local\\Temp\\ipykernel_6340\\3068543813.py:7: DeprecationWarning: \n",
      "Pyarrow will become a required dependency of pandas in the next major release of pandas (pandas 3.0),\n",
      "(to allow more performant data types, such as the Arrow string type, and better interoperability with other libraries)\n",
      "but was not found to be installed on your system.\n",
      "If this would cause problems for you,\n",
      "please provide us feedback at https://github.com/pandas-dev/pandas/issues/54466\n",
      "        \n",
      "  import pandas as pd\n"
     ]
    }
   ],
   "source": [
    "import requests\n",
    "from bs4 import BeautifulSoup\n",
    "import mysql.connector\n",
    "import re\n",
    "from time import sleep\n",
    "from random import randint\n",
    "import pandas as pd"
   ]
  },
  {
   "cell_type": "markdown",
   "metadata": {},
   "source": [
    "- Create a MSQL database connection for storing the data"
   ]
  },
  {
   "cell_type": "code",
   "execution_count": 3,
   "metadata": {},
   "outputs": [
    {
     "name": "stdout",
     "output_type": "stream",
     "text": [
      "Connection Successful\n"
     ]
    }
   ],
   "source": [
    "try:\n",
    "    connection = mysql.connector.connect(\n",
    "    host = 'localhost',\n",
    "    user = 'root',\n",
    "    password = 'qwerty',\n",
    "    database = 'imdb',\n",
    "    port = 3306\n",
    ")\n",
    "\n",
    "except Exception as e:\n",
    "    print(e)\n",
    "else:\n",
    "    print('Connection Successful')"
   ]
  },
  {
   "cell_type": "code",
   "execution_count": 20,
   "metadata": {},
   "outputs": [
    {
     "name": "stdout",
     "output_type": "stream",
     "text": [
      "<Response [200]>\n"
     ]
    }
   ],
   "source": [
    "base_url = \"https://www.imdb.com\"\n",
    "page_url = \"https://www.imdb.com/chart/top/\"\n",
    "headers = {\n",
    "    'User-Agent':'Mozilla/5.0 (Windows NT 10.0; Win64; x64) AppleWebKit/537.36 (KHTML, like Gecko) Chrome/122.0.0.0 Safari/537.36'\n",
    "}\n",
    "\n",
    "response = requests.get(page_url,headers=headers)\n",
    "imdb_soup = BeautifulSoup(response.text, \"html.parser\")\n",
    "movies = imdb_soup.find_all('li', attrs= {'class': 'ipc-metadata-list-summary-item'})\n"
   ]
  },
  {
   "cell_type": "code",
   "execution_count": 12,
   "metadata": {},
   "outputs": [
    {
     "data": {
      "text/plain": [
       "'/title/tt0468569/?ref_=chttp_t_3'"
      ]
     },
     "execution_count": 12,
     "metadata": {},
     "output_type": "execute_result"
    }
   ],
   "source": [
    "first_movie_link = movies[2]\n",
    "first_movie_link = first_movie_link.find('a', attrs={'class': 'ipc-title-link-wrapper'})['href']\n",
    "first_movie_link"
   ]
  },
  {
   "cell_type": "markdown",
   "metadata": {},
   "source": [
    "- Function for converting duration to minutes"
   ]
  },
  {
   "cell_type": "code",
   "execution_count": 13,
   "metadata": {},
   "outputs": [
    {
     "data": {
      "text/plain": [
       "63"
      ]
     },
     "execution_count": 13,
     "metadata": {},
     "output_type": "execute_result"
    }
   ],
   "source": [
    "#Duration converter to minutes:\n",
    "def duration_to_minutes(duration_str):\n",
    "    #Split the duration string by 'h' and 'm'\n",
    "    \n",
    "    minutes = 0\n",
    "    parts = duration_str.split()\n",
    "    \n",
    "    for part in parts:\n",
    "        if 'h' in part:\n",
    "            hours = int(part.strip('h'))\n",
    "            minutes = hours*60\n",
    "        elif 'm' in part:\n",
    "            mins = int(part.strip('m'))\n",
    "            minutes+=mins\n",
    "    return minutes\n",
    "duration_to_minutes('1h 3m')"
   ]
  },
  {
   "cell_type": "markdown",
   "metadata": {},
   "source": [
    "- Create a cursor for entering data into database"
   ]
  },
  {
   "cell_type": "code",
   "execution_count": 6,
   "metadata": {},
   "outputs": [],
   "source": [
    "cursor = connection.cursor()\n",
    "data_entry_query = f'INSERT INTO top_250 (movie_id, movie_title, year_released, audience, duration,rating, director,stars) VALUES (%s, %s,%s,%s,%s,%s,%s,%s) ON DUPLICATE KEY UPDATE movie_id = VALUES(movie_id), movie_title = VALUES(movie_title), year_released = VALUES(year_released), audience = VALUES(audience),duration = VALUES(duration), rating = VALUES(rating),director = VALUES(director),stars = VALUES(stars);'"
   ]
  },
  {
   "cell_type": "code",
   "execution_count": null,
   "metadata": {},
   "outputs": [],
   "source": [
    "for movie in movies:\n",
    "    movie_link = movie.find('a', attrs={'class': 'ipc-title-link-wrapper'})['href']\n",
    "    complete_link = base_url+movie_link\n",
    "    print(complete_link)\n",
    "\n",
    "    #Waiting time between requests\n",
    "    # sleep(randint(2,5))\n",
    "    try:\n",
    "        response = requests.get(complete_link, headers=headers)\n",
    "    \n",
    "        movie_soup = BeautifulSoup(response.text, 'html.parser')\n",
    "        movie_id = re.search(r'tt\\d{7}', complete_link).group()\n",
    "        movie_title = movie_soup.find('span', attrs={'class': 'hero__primary-text'}).text\n",
    "        year_released = movie_soup.find('ul', attrs={'class': 'ipc-inline-list ipc-inline-list--show-dividers sc-d8941411-2 cdJsTz baseAlt'}).contents[0].text\n",
    "        audience = movie_soup.find('ul', attrs={'class': 'ipc-inline-list ipc-inline-list--show-dividers sc-d8941411-2 cdJsTz baseAlt'}).contents[1].text\n",
    "        duration = movie_soup.find('ul', attrs={'class': 'ipc-inline-list ipc-inline-list--show-dividers sc-d8941411-2 cdJsTz baseAlt'}).contents[2].text\n",
    "        duration  = duration_to_minutes(duration)\n",
    "        rating = movie_soup.find('span', attrs={'class': 'sc-bde20123-1 cMEQkK'}).text\n",
    "        director = movie_soup.find('a', attrs={'class': 'ipc-metadata-list-item__list-content-item ipc-metadata-list-item__list-content-item--link'}).text\n",
    "        stars_soup = movie_soup.find('li', attrs={'role':\"presentation\", 'class':\"ipc-metadata-list__item ipc-metadata-list-item--link\", 'data-testid':\"title-pc-principal-credit\"})\n",
    "        stars = ''\n",
    "        for star in stars_soup.find_all('a', class_=\"ipc-metadata-list-item__list-content-item ipc-metadata-list-item__list-content-item--link\"):\n",
    "            stars+=star.text + ', '\n",
    "            \n",
    "        # Remove the trailing comma and space\n",
    "        stars = stars.rstrip(', ')\n",
    "\n",
    "        print(movie_id,movie_title,year_released, audience, duration, rating, director, stars)\n",
    "\n",
    "        values = (movie_id,movie_title,year_released, audience, duration, rating, director, stars)\n",
    "        cursor.execute(data_entry_query, values)\n",
    "        connection.commit()\n",
    "    except Exception as e:\n",
    "        print(f\"status code: {response.status_code}\")\n",
    "        print(e)\n"
   ]
  },
  {
   "cell_type": "code",
   "execution_count": 24,
   "metadata": {},
   "outputs": [
    {
     "name": "stderr",
     "output_type": "stream",
     "text": [
      "C:\\Users\\victo\\AppData\\Local\\Temp\\ipykernel_6340\\3446054449.py:2: UserWarning: pandas only supports SQLAlchemy connectable (engine/connection) or database string URI or sqlite3 DBAPI2 connection. Other DBAPI2 objects are not tested. Please consider using SQLAlchemy.\n",
      "  df = pd.read_sql(sql_query, connection)\n"
     ]
    },
    {
     "data": {
      "text/html": [
       "<div>\n",
       "<style scoped>\n",
       "    .dataframe tbody tr th:only-of-type {\n",
       "        vertical-align: middle;\n",
       "    }\n",
       "\n",
       "    .dataframe tbody tr th {\n",
       "        vertical-align: top;\n",
       "    }\n",
       "\n",
       "    .dataframe thead th {\n",
       "        text-align: right;\n",
       "    }\n",
       "</style>\n",
       "<table border=\"1\" class=\"dataframe\">\n",
       "  <thead>\n",
       "    <tr style=\"text-align: right;\">\n",
       "      <th></th>\n",
       "      <th>movie_id</th>\n",
       "      <th>movie_title</th>\n",
       "      <th>year_released</th>\n",
       "      <th>audience</th>\n",
       "      <th>duration</th>\n",
       "      <th>rating</th>\n",
       "      <th>director</th>\n",
       "      <th>stars</th>\n",
       "    </tr>\n",
       "  </thead>\n",
       "  <tbody>\n",
       "    <tr>\n",
       "      <th>0</th>\n",
       "      <td>tt0012349</td>\n",
       "      <td>The Kid</td>\n",
       "      <td>1921</td>\n",
       "      <td>Passed</td>\n",
       "      <td>68</td>\n",
       "      <td>8.2</td>\n",
       "      <td>Charles Chaplin</td>\n",
       "      <td>Charles Chaplin, Edna Purviance, Jackie Coogan</td>\n",
       "    </tr>\n",
       "    <tr>\n",
       "      <th>1</th>\n",
       "      <td>tt0015324</td>\n",
       "      <td>Sherlock Jr.</td>\n",
       "      <td>1924</td>\n",
       "      <td>Passed</td>\n",
       "      <td>45</td>\n",
       "      <td>8.2</td>\n",
       "      <td>Buster Keaton</td>\n",
       "      <td>Buster Keaton, Kathryn McGuire, Joe Keaton</td>\n",
       "    </tr>\n",
       "    <tr>\n",
       "      <th>2</th>\n",
       "      <td>tt0015864</td>\n",
       "      <td>The Gold Rush</td>\n",
       "      <td>1925</td>\n",
       "      <td>Passed</td>\n",
       "      <td>95</td>\n",
       "      <td>8.1</td>\n",
       "      <td>Charles Chaplin</td>\n",
       "      <td>Charles Chaplin, Mack Swain, Tom Murray</td>\n",
       "    </tr>\n",
       "    <tr>\n",
       "      <th>3</th>\n",
       "      <td>tt0017136</td>\n",
       "      <td>Metropolis</td>\n",
       "      <td>1927</td>\n",
       "      <td>Not Rated</td>\n",
       "      <td>153</td>\n",
       "      <td>8.3</td>\n",
       "      <td>Fritz Lang</td>\n",
       "      <td>Thea von Harbou, Fritz Lang</td>\n",
       "    </tr>\n",
       "    <tr>\n",
       "      <th>4</th>\n",
       "      <td>tt0017925</td>\n",
       "      <td>The General</td>\n",
       "      <td>1926</td>\n",
       "      <td>Passed</td>\n",
       "      <td>78</td>\n",
       "      <td>8.1</td>\n",
       "      <td>Clyde Bruckman</td>\n",
       "      <td>Buster Keaton, Clyde Bruckman, Al Boasberg</td>\n",
       "    </tr>\n",
       "  </tbody>\n",
       "</table>\n",
       "</div>"
      ],
      "text/plain": [
       "    movie_id    movie_title  year_released   audience  duration  rating  \\\n",
       "0  tt0012349        The Kid           1921     Passed        68     8.2   \n",
       "1  tt0015324   Sherlock Jr.           1924     Passed        45     8.2   \n",
       "2  tt0015864  The Gold Rush           1925     Passed        95     8.1   \n",
       "3  tt0017136     Metropolis           1927  Not Rated       153     8.3   \n",
       "4  tt0017925    The General           1926     Passed        78     8.1   \n",
       "\n",
       "          director                                           stars  \n",
       "0  Charles Chaplin  Charles Chaplin, Edna Purviance, Jackie Coogan  \n",
       "1    Buster Keaton      Buster Keaton, Kathryn McGuire, Joe Keaton  \n",
       "2  Charles Chaplin         Charles Chaplin, Mack Swain, Tom Murray  \n",
       "3       Fritz Lang                     Thea von Harbou, Fritz Lang  \n",
       "4   Clyde Bruckman      Buster Keaton, Clyde Bruckman, Al Boasberg  "
      ]
     },
     "execution_count": 24,
     "metadata": {},
     "output_type": "execute_result"
    }
   ],
   "source": [
    "sql_query = \"SELECT * FROM top_250\"\n",
    "df = pd.read_sql(sql_query, connection)\n",
    "df.head()"
   ]
  },
  {
   "cell_type": "code",
   "execution_count": 26,
   "metadata": {},
   "outputs": [
    {
     "data": {
      "text/plain": [
       "(246, 8)"
      ]
     },
     "execution_count": 26,
     "metadata": {},
     "output_type": "execute_result"
    }
   ],
   "source": [
    "df.shape\n"
   ]
  },
  {
   "cell_type": "code",
   "execution_count": 27,
   "metadata": {},
   "outputs": [
    {
     "data": {
      "text/html": [
       "<div>\n",
       "<style scoped>\n",
       "    .dataframe tbody tr th:only-of-type {\n",
       "        vertical-align: middle;\n",
       "    }\n",
       "\n",
       "    .dataframe tbody tr th {\n",
       "        vertical-align: top;\n",
       "    }\n",
       "\n",
       "    .dataframe thead th {\n",
       "        text-align: right;\n",
       "    }\n",
       "</style>\n",
       "<table border=\"1\" class=\"dataframe\">\n",
       "  <thead>\n",
       "    <tr style=\"text-align: right;\">\n",
       "      <th></th>\n",
       "      <th>count</th>\n",
       "      <th>mean</th>\n",
       "      <th>std</th>\n",
       "      <th>min</th>\n",
       "      <th>25%</th>\n",
       "      <th>50%</th>\n",
       "      <th>75%</th>\n",
       "      <th>max</th>\n",
       "    </tr>\n",
       "  </thead>\n",
       "  <tbody>\n",
       "    <tr>\n",
       "      <th>year_released</th>\n",
       "      <td>246.0</td>\n",
       "      <td>1987.203252</td>\n",
       "      <td>25.608021</td>\n",
       "      <td>1921.0</td>\n",
       "      <td>1967.25</td>\n",
       "      <td>1995.0</td>\n",
       "      <td>2007.00</td>\n",
       "      <td>2024.0</td>\n",
       "    </tr>\n",
       "    <tr>\n",
       "      <th>duration</th>\n",
       "      <td>246.0</td>\n",
       "      <td>129.739837</td>\n",
       "      <td>29.861814</td>\n",
       "      <td>45.0</td>\n",
       "      <td>109.00</td>\n",
       "      <td>127.0</td>\n",
       "      <td>145.75</td>\n",
       "      <td>238.0</td>\n",
       "    </tr>\n",
       "    <tr>\n",
       "      <th>rating</th>\n",
       "      <td>246.0</td>\n",
       "      <td>8.310976</td>\n",
       "      <td>0.236128</td>\n",
       "      <td>8.0</td>\n",
       "      <td>8.10</td>\n",
       "      <td>8.2</td>\n",
       "      <td>8.40</td>\n",
       "      <td>9.3</td>\n",
       "    </tr>\n",
       "  </tbody>\n",
       "</table>\n",
       "</div>"
      ],
      "text/plain": [
       "               count         mean        std     min      25%     50%  \\\n",
       "year_released  246.0  1987.203252  25.608021  1921.0  1967.25  1995.0   \n",
       "duration       246.0   129.739837  29.861814    45.0   109.00   127.0   \n",
       "rating         246.0     8.310976   0.236128     8.0     8.10     8.2   \n",
       "\n",
       "                   75%     max  \n",
       "year_released  2007.00  2024.0  \n",
       "duration        145.75   238.0  \n",
       "rating            8.40     9.3  "
      ]
     },
     "execution_count": 27,
     "metadata": {},
     "output_type": "execute_result"
    }
   ],
   "source": [
    "df.describe().T"
   ]
  },
  {
   "cell_type": "code",
   "execution_count": 28,
   "metadata": {},
   "outputs": [
    {
     "data": {
      "text/plain": [
       "movie_id         0\n",
       "movie_title      0\n",
       "year_released    0\n",
       "audience         0\n",
       "duration         0\n",
       "rating           0\n",
       "director         0\n",
       "stars            0\n",
       "dtype: int64"
      ]
     },
     "execution_count": 28,
     "metadata": {},
     "output_type": "execute_result"
    }
   ],
   "source": [
    "df.isnull().sum()"
   ]
  },
  {
   "cell_type": "code",
   "execution_count": 31,
   "metadata": {},
   "outputs": [
    {
     "data": {
      "text/plain": [
       "0"
      ]
     },
     "execution_count": 31,
     "metadata": {},
     "output_type": "execute_result"
    }
   ],
   "source": [
    "df.duplicated().sum()"
   ]
  },
  {
   "cell_type": "code",
   "execution_count": null,
   "metadata": {},
   "outputs": [],
   "source": []
  }
 ],
 "metadata": {
  "kernelspec": {
   "display_name": "Python 3",
   "language": "python",
   "name": "python3"
  },
  "language_info": {
   "codemirror_mode": {
    "name": "ipython",
    "version": 3
   },
   "file_extension": ".py",
   "mimetype": "text/x-python",
   "name": "python",
   "nbconvert_exporter": "python",
   "pygments_lexer": "ipython3",
   "version": "3.12.2"
  }
 },
 "nbformat": 4,
 "nbformat_minor": 2
}
