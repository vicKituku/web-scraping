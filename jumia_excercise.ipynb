{
 "cells": [
  {
   "cell_type": "markdown",
   "metadata": {},
   "source": [
    "SCRAPING JUMIA FOR DISCOUNTED ITEMS"
   ]
  },
  {
   "cell_type": "code",
   "execution_count": 1,
   "metadata": {},
   "outputs": [],
   "source": [
    "import requests\n",
    "from bs4 import BeautifulSoup\n",
    "import re\n",
    "\n",
    "#Define your website --Jumia--\n",
    "base_url = \"https://www.jumia.co.ke/\"\n",
    "all_products = \"https://www.jumia.co.ke/all-products/\"\n",
    "\n",
    "#Send a HTTP GET request to all_products url using requests library\n",
    "response = requests.get(all_products)\n",
    "\n",
    "#Create a BeautifulSoup object by parsing the HTML content retrieved by requests library\n",
    "soup = BeautifulSoup(response.text, \"html.parser\")"
   ]
  },
  {
   "cell_type": "markdown",
   "metadata": {},
   "source": [
    "- Get products in the current page"
   ]
  },
  {
   "cell_type": "code",
   "execution_count": 2,
   "metadata": {},
   "outputs": [
    {
     "name": "stdout",
     "output_type": "stream",
     "text": [
      "40\n"
     ]
    }
   ],
   "source": [
    "products = soup.find_all('article', class_ = \"prd _fb col c-prd\")\n",
    "print(len(products))"
   ]
  },
  {
   "cell_type": "markdown",
   "metadata": {},
   "source": [
    "- Get the link to each product in that page"
   ]
  },
  {
   "cell_type": "code",
   "execution_count": 3,
   "metadata": {},
   "outputs": [
    {
     "data": {
      "text/plain": [
       "['https://www.jumia.co.ke//nivea-radiant-beauty-advanced-care-lotion-for-women-400ml-pack-of-2-94993120.html',\n",
       " 'https://www.jumia.co.ke//vitron-htc4388fs-43-smart-android-frameless-tv-black-93348943.html',\n",
       " 'https://www.jumia.co.ke//nivea-perfect-radiant-even-tone-day-and-night-cream-for-women-50ml-68528030.html',\n",
       " 'https://www.jumia.co.ke//ailyons-fk-0301-stainless-steel-1.8l-electric-kettle-black-34080919.html',\n",
       " 'https://www.jumia.co.ke//nunix-r5-hot-normal-free-standing-water-dispenser-white-160082072.html',\n",
       " 'https://www.jumia.co.ke//garnier-anti-blemish-charcoal-serum-with-aha-bha-niacinamide-for-acne-prone-skin-119519704.html',\n",
       " 'https://www.jumia.co.ke//tecno-spark-10-6.6-fhd128gb-rom8gb-ram-5000mahblue-146192465.html',\n",
       " 'https://www.jumia.co.ke//ailyons-fk-0301-stainless-steel-1.8l-electric-kettle-silver.-187952560.html',\n",
       " 'https://www.jumia.co.ke//nokia-c32-64gb-4gb-upto-7gb-ram-5000mah-android-13-black-charcoal-150536966.html',\n",
       " 'https://www.jumia.co.ke//ailyons-elp2404k-2.1ch-subwoofer-home-theatrer-multi-media-speaker-system-156070365.html',\n",
       " 'https://www.jumia.co.ke//garnier-even-matte-vitamin-c-booster-serum-15ml-115443314.html',\n",
       " 'https://www.jumia.co.ke//rashnik-rn-999-2-in-1-blender-grinder-1.5l-400w-black-163107674.html',\n",
       " 'https://www.jumia.co.ke//hikers-32-digital-frameless-hd-led-tv-black-130118973.html',\n",
       " 'https://www.jumia.co.ke//menengai-menengai-cream-bar-soap-500g-125926463.html',\n",
       " 'https://www.jumia.co.ke//roch-rfr-150dt-i-top-mounted-defrost-fridge-118l-inox-169975157.html',\n",
       " 'https://www.jumia.co.ke//generic-stereo-f9-bluetooth-earphone-power-headset-35221857.html',\n",
       " 'https://www.jumia.co.ke//vision-plus-vp8832df-32-hd-frameless-digital-led-tv-black-free-wall-mount.-125899150.html',\n",
       " 'https://www.jumia.co.ke//garnier-even-matte-vitamin-c-protection-cream-spf30-50ml-69384579.html',\n",
       " 'https://www.jumia.co.ke//nivea-men-deep-antibacterial-anti-perspirant-rollon48h-50ml-pack-of-2-68528034.html',\n",
       " 'https://www.jumia.co.ke//ailyons-tyb-205-blender-2in1-with-grindermachine-1.5lblack-86622778.html',\n",
       " 'https://www.jumia.co.ke//garnier-even-matte-vitamin-c-booster-serum-30ml.-47090194.html',\n",
       " 'https://www.jumia.co.ke//skyworth-43e3a-43-full-hd-frameless-smart-android-tv-black-69299701.html',\n",
       " 'https://www.jumia.co.ke//fashion-2024-mens-casual-high-top-shoes-running-sneakers-beige-48872199.html',\n",
       " 'https://www.jumia.co.ke//garnier-pure-active-3-in1-charcoal-anti-blackhead-mask-wash-scrub-150ml-15855244.html',\n",
       " 'https://www.jumia.co.ke//jameson-jameson-irish-whiskey-1-litre-58538274.html',\n",
       " 'https://www.jumia.co.ke//fashion-mens-shoes-fashion-sneakers-casual-outdoor-easywear-trendy-shoes-running-sport-sneakers-57097994.html',\n",
       " 'https://www.jumia.co.ke//von-von-vals-75bwy-twin-tub-washing-machine-7.5kg-114307984.html',\n",
       " 'https://www.jumia.co.ke//nunix-sc-002-table-top-double-burner-gas-stove-cooker-159752089.html',\n",
       " 'https://www.jumia.co.ke//vitron-4068-40-smart-android-tv-netflix-youtube-black-43686321.html',\n",
       " 'https://www.jumia.co.ke//ailyons-fk-0306-stainless-steel-1.8l-electric-kettle-white-61982685.html',\n",
       " 'https://www.jumia.co.ke//infinix-smart-7-hd-6.6-2gb-ram-64gb-5000mah-4gdual-sim-ink-black.-126833209.html',\n",
       " 'https://www.jumia.co.ke//lyons-fy-1731-blender-2-in-1-with-grinder-machines-1.5l-27035910.html',\n",
       " 'https://www.jumia.co.ke//generic-wireless-bluetooth-in-ear-earphone-stereo-headset-73267580.html',\n",
       " 'https://www.jumia.co.ke//ailyons-gs014-1-2-burner-glass-top-infrared-double-burner-51432942.html',\n",
       " 'https://www.jumia.co.ke//garnier-even-matte-vitamin-c-cleansing-foam-30685679.html',\n",
       " 'https://www.jumia.co.ke//fashion-couple-canvas-low-top-lace-up-shoes-classic-casual-sneakers-black-154042530.html',\n",
       " 'https://www.jumia.co.ke//fashion-slipon-shoes-loafers-shoes-canvas-shoes-casual-shoes-mens-sneaker-black-67456421.html',\n",
       " 'https://www.jumia.co.ke//fashion-4-in-1-ladies-handbags-women-shoulder-bags-set-pu-leather-pink-29295116.html',\n",
       " 'https://www.jumia.co.ke//generic-multicolor-duvet-blanket-sheet-2-pillow-cases-34843445.html',\n",
       " 'https://www.jumia.co.ke//ace-elec-aceelec-f9-wireless-fingerprint-touch-bluetooth-headset-133077776.html']"
      ]
     },
     "execution_count": 3,
     "metadata": {},
     "output_type": "execute_result"
    }
   ],
   "source": [
    "links = []\n",
    "for product in products:\n",
    "    links.append(base_url+product.find('a', class_ = \"core\")['href'])\n",
    "\n",
    "links"
   ]
  },
  {
   "cell_type": "markdown",
   "metadata": {},
   "source": [
    "- Loop through each product and get the name, price, discount, image*"
   ]
  },
  {
   "cell_type": "code",
   "execution_count": 4,
   "metadata": {},
   "outputs": [
    {
     "data": {
      "text/plain": [
       "{'sku': 'FA113FS1PMVNXNAFAMZ',\n",
       " 'name': 'Fashion Couple Canvas Low Top Lace-up Shoes Classic Casual Sneakers Black',\n",
       " 'price': 999,\n",
       " 'discount': 33}"
      ]
     },
     "execution_count": 4,
     "metadata": {},
     "output_type": "execute_result"
    }
   ],
   "source": [
    "product_response = requests.get('https://www.jumia.co.ke//fashion-couple-canvas-low-top-lace-up-shoes-classic-casual-sneakers-black-154042530.html')\n",
    "product_soup = BeautifulSoup(product_response.text, \"html.parser\")\n",
    "sku = product_soup.find('li', class_=\"-pvxs\").text.split(':')[1].strip()\n",
    "\n",
    "name = product_soup.find('h1', class_=\"-fs20 -pts -pbxs\").text.strip()\n",
    "price = product_soup.find('span', class_=\"-b -ubpt -tal -fs24 -prxs\").text\n",
    "price =  int(re.search(r'(\\d[\\d,]*)', price).group(1).replace(',', ''))\n",
    "discount = int(product_soup.find('span', class_=\"bdg _dsct _dyn -mls\").text.replace('%',''))\n",
    "\n",
    "\n",
    "\n",
    "details = {\n",
    "    'sku' : sku,\n",
    "    'name' : name,\n",
    "    'price' : price,\n",
    "    'discount': discount\n",
    "}\n",
    "details"
   ]
  },
  {
   "cell_type": "markdown",
   "metadata": {},
   "source": [
    "- Loop through pages collecting links"
   ]
  },
  {
   "cell_type": "code",
   "execution_count": 5,
   "metadata": {},
   "outputs": [
    {
     "name": "stdout",
     "output_type": "stream",
     "text": [
      "Getting products for page 1\n",
      "Getting products for page 2\n",
      "Getting products for page 3\n",
      "Getting products for page 4\n",
      "Getting products for page 5\n",
      "Getting products for page 6\n",
      "Getting products for page 7\n",
      "Getting products for page 8\n",
      "Getting products for page 9\n"
     ]
    }
   ],
   "source": [
    "products_list = []\n",
    "for page in range(1,10):\n",
    "    response = requests.get(f'https://www.jumia.co.ke/all-products/?page={page}#catalog-listing')\n",
    "    products = soup.find_all('article', class_ = \"prd _fb col c-prd\")\n",
    "    for product in products:\n",
    "        products_list.append(product)\n",
    "    print(f\"Getting products for page {page}\")\n",
    "    "
   ]
  },
  {
   "cell_type": "markdown",
   "metadata": {},
   "source": [
    "- Combine Link collection and data collection"
   ]
  },
  {
   "cell_type": "markdown",
   "metadata": {},
   "source": [
    "- Create an SQL connection to help save the data into a database"
   ]
  },
  {
   "cell_type": "code",
   "execution_count": 6,
   "metadata": {},
   "outputs": [
    {
     "name": "stdout",
     "output_type": "stream",
     "text": [
      "Successfully connected\n"
     ]
    }
   ],
   "source": [
    "import mysql.connector\n",
    "try:\n",
    "    connection = mysql.connector.connect(\n",
    "        host = 'localhost',\n",
    "        port = 3306,\n",
    "        user = 'root',\n",
    "        database = 'jumia',\n",
    "        password = 'qwerty'\n",
    "    )\n",
    "except Exception as e:\n",
    "    print(e)\n",
    "else:\n",
    "    print('Successfully connected')"
   ]
  },
  {
   "cell_type": "markdown",
   "metadata": {},
   "source": [
    "- Create a cursor for executing queries"
   ]
  },
  {
   "cell_type": "code",
   "execution_count": 10,
   "metadata": {},
   "outputs": [],
   "source": [
    "cursor = connection.cursor()\n",
    "data_entry_query = f'INSERT INTO jumia_products (SKU, name, price, old_price, discount) VALUES (%s, %s,%s,%s,%s) ON DUPLICATE KEY UPDATE name = VALUES(name), price = VALUES(price), old_price = VALUES(old_price), discount = VALUES(discount);'"
   ]
  },
  {
   "cell_type": "code",
   "execution_count": 13,
   "metadata": {},
   "outputs": [
    {
     "name": "stdout",
     "output_type": "stream",
     "text": [
      "Saving Page:1 product: 0\n",
      "Saving Page:1 product: 1\n",
      "Saving Page:1 product: 2\n",
      "Saving Page:1 product: 3\n",
      "Saving Page:1 product: 4\n",
      "Saving Page:1 product: 5\n",
      "Saving Page:1 product: 6\n",
      "Saving Page:1 product: 7\n",
      "Saving Page:1 product: 8\n",
      "Saving Page:1 product: 9\n",
      "Saving Page:1 product: 10\n",
      "Saving Page:1 product: 11\n",
      "Saving Page:1 product: 12\n",
      "Saving Page:1 product: 13\n",
      "Saving Page:1 product: 14\n",
      "Saving Page:1 product: 15\n",
      "Saving Page:1 product: 16\n",
      "Saving Page:1 product: 17\n",
      "Saving Page:1 product: 18\n",
      "Saving Page:1 product: 19\n",
      "Saving Page:1 product: 20\n",
      "Saving Page:1 product: 21\n",
      "Saving Page:1 product: 22\n",
      "Saving Page:1 product: 23\n",
      "Saving Page:1 product: 24\n",
      "Saving Page:1 product: 25\n",
      "Saving Page:1 product: 26\n",
      "Saving Page:1 product: 27\n",
      "Saving Page:1 product: 28\n",
      "Saving Page:1 product: 29\n",
      "Saving Page:1 product: 30\n",
      "Saving Page:1 product: 31\n",
      "Saving Page:1 product: 32\n",
      "Saving Page:1 product: 33\n",
      "Saving Page:1 product: 34\n",
      "Saving Page:1 product: 35\n",
      "Saving Page:1 product: 36\n",
      "Saving Page:1 product: 37\n",
      "Saving Page:1 product: 38\n",
      "Saving Page:1 product: 39\n",
      "Saving Page:2 product: 40\n",
      "Saving Page:2 product: 41\n",
      "Saving Page:2 product: 42\n",
      "Saving Page:2 product: 43\n",
      "Saving Page:2 product: 44\n"
     ]
    }
   ],
   "source": [
    "products_list = []\n",
    "product_count = 0\n",
    "for page in range(1,3000):\n",
    "    response = requests.get(f'https://www.jumia.co.ke/all-products/?page={page}#catalog-listing')\n",
    "    products = soup.find_all('article', class_ = \"prd _fb col c-prd\")\n",
    "    for product in products:\n",
    "        link = base_url+product.find('a', class_ = \"core\")['href']\n",
    "        product_response = requests.get(link)\n",
    "        product_soup = BeautifulSoup(product_response.text, \"html.parser\")\n",
    "\n",
    "        sku = product_soup.find('li', class_=\"-pvxs\").text.split(':')[1].strip()\n",
    "        name = product_soup.find('h1', class_=\"-fs20 -pts -pbxs\").text.strip()\n",
    "        current_price = product_soup.find('span', class_=\"-b -ubpt -tal -fs24 -prxs\").text\n",
    "        current_price =  int(re.search(r'(\\d[\\d,]*)', current_price).group(1).replace(',', ''))\n",
    "        old_price = product_soup.find('span', class_=\"-tal -gy5 -lthr -fs16 -pvxs -ubpt\")\n",
    "        if old_price is not None:\n",
    "            old_price = old_price = int(re.search(r'(\\d[\\d,]*)', old_price.text).group(1).replace(',', ''))\n",
    "        else:\n",
    "            old_price = None\n",
    "        discount = product_soup.find('span', class_=\"bdg _dsct _dyn -mls\")\n",
    "        if discount is not None:\n",
    "            discount = int(discount.text.replace('%',''))\n",
    "        else:\n",
    "            discount = None\n",
    "        \n",
    "\n",
    "        details = {\n",
    "            'sku' : sku,\n",
    "            'name' : name,\n",
    "            'price' : current_price,\n",
    "            'old_price': old_price,\n",
    "            'discount': discount\n",
    "        }\n",
    "        values = (sku, name, current_price, old_price, discount)\n",
    "\n",
    "        print(f\"Saving Page:{page} product: {product_count}\")\n",
    "        cursor.execute(data_entry_query, values)\n",
    "        connection.commit()\n",
    "        product_count += 1\n",
    "   \n",
    "        \n",
    "        \n",
    "    "
   ]
  }
 ],
 "metadata": {
  "kernelspec": {
   "display_name": "Python 3",
   "language": "python",
   "name": "python3"
  },
  "language_info": {
   "codemirror_mode": {
    "name": "ipython",
    "version": 3
   },
   "file_extension": ".py",
   "mimetype": "text/x-python",
   "name": "python",
   "nbconvert_exporter": "python",
   "pygments_lexer": "ipython3",
   "version": "3.12.2"
  }
 },
 "nbformat": 4,
 "nbformat_minor": 2
}
